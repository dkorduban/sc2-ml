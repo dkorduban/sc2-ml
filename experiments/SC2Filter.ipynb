{
 "cells": [
  {
   "cell_type": "code",
   "execution_count": 1,
   "metadata": {},
   "outputs": [],
   "source": [
    "import json"
   ]
  },
  {
   "cell_type": "code",
   "execution_count": 2,
   "metadata": {},
   "outputs": [],
   "source": [
    "with open('./SC2Filter_filter_4680.json') as f:\n",
    "    data = json.load(f)"
   ]
  },
  {
   "cell_type": "code",
   "execution_count": 5,
   "metadata": {},
   "outputs": [
    {
     "data": {
      "text/plain": [
       "dict_keys(['Name', 'CreatedAt', 'DataBuild', 'Maps', 'MinMMR', 'MinAPM', 'Races', 'WinningRaces', 'ReplaysDirectory', 'Replays'])"
      ]
     },
     "execution_count": 5,
     "metadata": {},
     "output_type": "execute_result"
    }
   ],
   "source": [
    "data.keys()"
   ]
  },
  {
   "cell_type": "code",
   "execution_count": 22,
   "metadata": {},
   "outputs": [
    {
     "data": {
      "text/plain": [
       "10561"
      ]
     },
     "execution_count": 22,
     "metadata": {},
     "output_type": "execute_result"
    }
   ],
   "source": [
    "len(data['Replays'])"
   ]
  },
  {
   "cell_type": "code",
   "execution_count": 23,
   "metadata": {},
   "outputs": [
    {
     "data": {
      "text/plain": [
       "'/root/replays'"
      ]
     },
     "execution_count": 23,
     "metadata": {},
     "output_type": "execute_result"
    }
   ],
   "source": [
    "data['ReplaysDirectory']"
   ]
  },
  {
   "cell_type": "code",
   "execution_count": 7,
   "metadata": {},
   "outputs": [
    {
     "data": {
      "text/plain": [
       "{'045bcfa2d74411a172f0602761403e742ce79b6c005411f3938d6bc831cd933d': {'BaseBuild': 'Base60321',\n",
       "  'DataBuild': '60604',\n",
       "  'DataVersion': '33D9FE28909573253B7FC352CE7AEA40',\n",
       "  'Duration': 501,\n",
       "  'GameVersion': '4.1.2.60604',\n",
       "  'Players': [{'APM': 306.0,\n",
       "    'AssignedRace': 'Prot',\n",
       "    'MMR': 5066,\n",
       "    'PlayerID': 1,\n",
       "    'Result': 'Loss',\n",
       "    'SelectedRace': 'Prot'},\n",
       "   {'APM': 128.0,\n",
       "    'AssignedRace': 'Zerg',\n",
       "    'MMR': 4729,\n",
       "    'PlayerID': 2,\n",
       "    'Result': 'Win',\n",
       "    'SelectedRace': 'Zerg'}],\n",
       "  'Title': 'Blackpink LE'}}"
      ]
     },
     "execution_count": 7,
     "metadata": {},
     "output_type": "execute_result"
    }
   ],
   "source": [
    "data['Replays'][0]"
   ]
  },
  {
   "cell_type": "code",
   "execution_count": 14,
   "metadata": {},
   "outputs": [
    {
     "name": "stdout",
     "output_type": "stream",
     "text": [
      "dict_values([{'Title': 'Blackpink LE', 'GameVersion': '4.1.2.60604', 'DataBuild': '60604', 'DataVersion': '33D9FE28909573253B7FC352CE7AEA40', 'BaseBuild': 'Base60321', 'Duration': 501, 'Players': [{'PlayerID': 1, 'MMR': 5066, 'APM': 306.0, 'Result': 'Loss', 'SelectedRace': 'Prot', 'AssignedRace': 'Prot'}, {'PlayerID': 2, 'MMR': 4729, 'APM': 128.0, 'Result': 'Win', 'SelectedRace': 'Zerg', 'AssignedRace': 'Zerg'}]}])\n"
     ]
    }
   ],
   "source": [
    "replays = data['Replays']\n",
    "r = replays[0]\n",
    "print(r.values())"
   ]
  },
  {
   "cell_type": "code",
   "execution_count": 21,
   "metadata": {},
   "outputs": [
    {
     "name": "stdout",
     "output_type": "stream",
     "text": [
      "4680 2 3302\n"
     ]
    }
   ],
   "source": [
    "minMMR = float('inf')\n",
    "minDuration = float('inf')\n",
    "cnt = 0\n",
    "for _r in replays:\n",
    "    r = list(_r.values())[0]\n",
    "    minDuration = min(minDuration, r['Duration'])\n",
    "    if r['Duration'] >= 1000:\n",
    "        cnt += 1\n",
    "    for p in r['Players']:\n",
    "        minMMR = min(minMMR, p['MMR'])\n",
    "print(minMMR, minDuration, cnt)"
   ]
  },
  {
   "cell_type": "code",
   "execution_count": 1,
   "metadata": {},
   "outputs": [],
   "source": [
    "import gzip, _pickle"
   ]
  },
  {
   "cell_type": "code",
   "execution_count": null,
   "metadata": {},
   "outputs": [],
   "source": [
    "with gzip.open('000882dc25.gz', 'b') as f:\n",
    "    data = _pickle.loa"
   ]
  }
 ],
 "metadata": {
  "kernelspec": {
   "display_name": "Python 3",
   "language": "python",
   "name": "python3"
  },
  "language_info": {
   "codemirror_mode": {
    "name": "ipython",
    "version": 3
   },
   "file_extension": ".py",
   "mimetype": "text/x-python",
   "name": "python",
   "nbconvert_exporter": "python",
   "pygments_lexer": "ipython3",
   "version": "3.6.1"
  }
 },
 "nbformat": 4,
 "nbformat_minor": 2
}
